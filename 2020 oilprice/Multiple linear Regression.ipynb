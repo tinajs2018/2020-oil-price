{
 "cells": [
  {
   "cell_type": "code",
   "execution_count": 31,
   "metadata": {},
   "outputs": [],
   "source": [
    "import pandas as pd\n",
    "import numpy as np\n",
    "from sklearn import linear_model\n",
    "import matplotlib.pyplot as plt\n",
    "%matplotlib inline"
   ]
  },
  {
   "cell_type": "code",
   "execution_count": 5,
   "metadata": {},
   "outputs": [
    {
     "data": {
      "text/html": [
       "<div>\n",
       "<style scoped>\n",
       "    .dataframe tbody tr th:only-of-type {\n",
       "        vertical-align: middle;\n",
       "    }\n",
       "\n",
       "    .dataframe tbody tr th {\n",
       "        vertical-align: top;\n",
       "    }\n",
       "\n",
       "    .dataframe thead th {\n",
       "        text-align: right;\n",
       "    }\n",
       "</style>\n",
       "<table border=\"1\" class=\"dataframe\">\n",
       "  <thead>\n",
       "    <tr style=\"text-align: right;\">\n",
       "      <th></th>\n",
       "      <th>Date</th>\n",
       "      <th>A1</th>\n",
       "      <th>A2</th>\n",
       "      <th>A3</th>\n",
       "      <th>R1</th>\n",
       "      <th>R2</th>\n",
       "      <th>R3</th>\n",
       "      <th>M1</th>\n",
       "      <th>M2</th>\n",
       "      <th>M3</th>\n",
       "      <th>P1</th>\n",
       "      <th>P2</th>\n",
       "      <th>P3</th>\n",
       "      <th>D1</th>\n",
       "    </tr>\n",
       "  </thead>\n",
       "  <tbody>\n",
       "    <tr>\n",
       "      <td>0</td>\n",
       "      <td>01/02/1995</td>\n",
       "      <td>1.127</td>\n",
       "      <td>1.104</td>\n",
       "      <td>1.231</td>\n",
       "      <td>1.079</td>\n",
       "      <td>1.063</td>\n",
       "      <td>1.167</td>\n",
       "      <td>1.170</td>\n",
       "      <td>1.159</td>\n",
       "      <td>1.298</td>\n",
       "      <td>1.272</td>\n",
       "      <td>1.250</td>\n",
       "      <td>1.386</td>\n",
       "      <td>1.104</td>\n",
       "    </tr>\n",
       "    <tr>\n",
       "      <td>1</td>\n",
       "      <td>01/09/1995</td>\n",
       "      <td>1.134</td>\n",
       "      <td>1.111</td>\n",
       "      <td>1.232</td>\n",
       "      <td>1.086</td>\n",
       "      <td>1.070</td>\n",
       "      <td>1.169</td>\n",
       "      <td>1.177</td>\n",
       "      <td>1.164</td>\n",
       "      <td>1.300</td>\n",
       "      <td>1.279</td>\n",
       "      <td>1.256</td>\n",
       "      <td>1.387</td>\n",
       "      <td>1.102</td>\n",
       "    </tr>\n",
       "    <tr>\n",
       "      <td>2</td>\n",
       "      <td>01/16/1995</td>\n",
       "      <td>1.126</td>\n",
       "      <td>1.102</td>\n",
       "      <td>1.231</td>\n",
       "      <td>1.078</td>\n",
       "      <td>1.062</td>\n",
       "      <td>1.169</td>\n",
       "      <td>1.168</td>\n",
       "      <td>1.155</td>\n",
       "      <td>1.299</td>\n",
       "      <td>1.271</td>\n",
       "      <td>1.249</td>\n",
       "      <td>1.385</td>\n",
       "      <td>1.100</td>\n",
       "    </tr>\n",
       "    <tr>\n",
       "      <td>3</td>\n",
       "      <td>01/23/1995</td>\n",
       "      <td>1.132</td>\n",
       "      <td>1.110</td>\n",
       "      <td>1.226</td>\n",
       "      <td>1.083</td>\n",
       "      <td>1.068</td>\n",
       "      <td>1.165</td>\n",
       "      <td>1.177</td>\n",
       "      <td>1.165</td>\n",
       "      <td>1.296</td>\n",
       "      <td>1.277</td>\n",
       "      <td>1.256</td>\n",
       "      <td>1.378</td>\n",
       "      <td>1.095</td>\n",
       "    </tr>\n",
       "    <tr>\n",
       "      <td>4</td>\n",
       "      <td>01/30/1995</td>\n",
       "      <td>1.131</td>\n",
       "      <td>1.109</td>\n",
       "      <td>1.221</td>\n",
       "      <td>1.083</td>\n",
       "      <td>1.068</td>\n",
       "      <td>1.162</td>\n",
       "      <td>1.176</td>\n",
       "      <td>1.163</td>\n",
       "      <td>1.291</td>\n",
       "      <td>1.275</td>\n",
       "      <td>1.255</td>\n",
       "      <td>1.370</td>\n",
       "      <td>1.090</td>\n",
       "    </tr>\n",
       "    <tr>\n",
       "      <td>...</td>\n",
       "      <td>...</td>\n",
       "      <td>...</td>\n",
       "      <td>...</td>\n",
       "      <td>...</td>\n",
       "      <td>...</td>\n",
       "      <td>...</td>\n",
       "      <td>...</td>\n",
       "      <td>...</td>\n",
       "      <td>...</td>\n",
       "      <td>...</td>\n",
       "      <td>...</td>\n",
       "      <td>...</td>\n",
       "      <td>...</td>\n",
       "      <td>...</td>\n",
       "    </tr>\n",
       "    <tr>\n",
       "      <td>1356</td>\n",
       "      <td>12/28/2020</td>\n",
       "      <td>2.330</td>\n",
       "      <td>2.225</td>\n",
       "      <td>2.535</td>\n",
       "      <td>2.243</td>\n",
       "      <td>2.158</td>\n",
       "      <td>2.423</td>\n",
       "      <td>2.634</td>\n",
       "      <td>2.482</td>\n",
       "      <td>2.858</td>\n",
       "      <td>2.889</td>\n",
       "      <td>2.770</td>\n",
       "      <td>3.031</td>\n",
       "      <td>2.635</td>\n",
       "    </tr>\n",
       "    <tr>\n",
       "      <td>1357</td>\n",
       "      <td>01/04/2021</td>\n",
       "      <td>2.336</td>\n",
       "      <td>2.227</td>\n",
       "      <td>2.549</td>\n",
       "      <td>2.249</td>\n",
       "      <td>2.160</td>\n",
       "      <td>2.437</td>\n",
       "      <td>2.639</td>\n",
       "      <td>2.484</td>\n",
       "      <td>2.867</td>\n",
       "      <td>2.895</td>\n",
       "      <td>2.771</td>\n",
       "      <td>3.042</td>\n",
       "      <td>2.640</td>\n",
       "    </tr>\n",
       "    <tr>\n",
       "      <td>1358</td>\n",
       "      <td>01/11/2021</td>\n",
       "      <td>2.403</td>\n",
       "      <td>2.298</td>\n",
       "      <td>2.610</td>\n",
       "      <td>2.317</td>\n",
       "      <td>2.232</td>\n",
       "      <td>2.498</td>\n",
       "      <td>2.702</td>\n",
       "      <td>2.550</td>\n",
       "      <td>2.927</td>\n",
       "      <td>2.959</td>\n",
       "      <td>2.839</td>\n",
       "      <td>3.101</td>\n",
       "      <td>2.670</td>\n",
       "    </tr>\n",
       "    <tr>\n",
       "      <td>1359</td>\n",
       "      <td>01/18/2021</td>\n",
       "      <td>2.464</td>\n",
       "      <td>2.351</td>\n",
       "      <td>2.688</td>\n",
       "      <td>2.379</td>\n",
       "      <td>2.285</td>\n",
       "      <td>2.579</td>\n",
       "      <td>2.759</td>\n",
       "      <td>2.601</td>\n",
       "      <td>2.995</td>\n",
       "      <td>3.014</td>\n",
       "      <td>2.885</td>\n",
       "      <td>3.166</td>\n",
       "      <td>2.696</td>\n",
       "    </tr>\n",
       "    <tr>\n",
       "      <td>1360</td>\n",
       "      <td>01/25/2021</td>\n",
       "      <td>2.478</td>\n",
       "      <td>2.363</td>\n",
       "      <td>2.703</td>\n",
       "      <td>2.392</td>\n",
       "      <td>2.298</td>\n",
       "      <td>2.593</td>\n",
       "      <td>2.776</td>\n",
       "      <td>2.615</td>\n",
       "      <td>3.014</td>\n",
       "      <td>3.033</td>\n",
       "      <td>2.900</td>\n",
       "      <td>3.191</td>\n",
       "      <td>2.716</td>\n",
       "    </tr>\n",
       "  </tbody>\n",
       "</table>\n",
       "<p>1361 rows × 14 columns</p>\n",
       "</div>"
      ],
      "text/plain": [
       "            Date     A1     A2     A3     R1     R2     R3     M1     M2  \\\n",
       "0     01/02/1995  1.127  1.104  1.231  1.079  1.063  1.167  1.170  1.159   \n",
       "1     01/09/1995  1.134  1.111  1.232  1.086  1.070  1.169  1.177  1.164   \n",
       "2     01/16/1995  1.126  1.102  1.231  1.078  1.062  1.169  1.168  1.155   \n",
       "3     01/23/1995  1.132  1.110  1.226  1.083  1.068  1.165  1.177  1.165   \n",
       "4     01/30/1995  1.131  1.109  1.221  1.083  1.068  1.162  1.176  1.163   \n",
       "...          ...    ...    ...    ...    ...    ...    ...    ...    ...   \n",
       "1356  12/28/2020  2.330  2.225  2.535  2.243  2.158  2.423  2.634  2.482   \n",
       "1357  01/04/2021  2.336  2.227  2.549  2.249  2.160  2.437  2.639  2.484   \n",
       "1358  01/11/2021  2.403  2.298  2.610  2.317  2.232  2.498  2.702  2.550   \n",
       "1359  01/18/2021  2.464  2.351  2.688  2.379  2.285  2.579  2.759  2.601   \n",
       "1360  01/25/2021  2.478  2.363  2.703  2.392  2.298  2.593  2.776  2.615   \n",
       "\n",
       "         M3     P1     P2     P3     D1  \n",
       "0     1.298  1.272  1.250  1.386  1.104  \n",
       "1     1.300  1.279  1.256  1.387  1.102  \n",
       "2     1.299  1.271  1.249  1.385  1.100  \n",
       "3     1.296  1.277  1.256  1.378  1.095  \n",
       "4     1.291  1.275  1.255  1.370  1.090  \n",
       "...     ...    ...    ...    ...    ...  \n",
       "1356  2.858  2.889  2.770  3.031  2.635  \n",
       "1357  2.867  2.895  2.771  3.042  2.640  \n",
       "1358  2.927  2.959  2.839  3.101  2.670  \n",
       "1359  2.995  3.014  2.885  3.166  2.696  \n",
       "1360  3.014  3.033  2.900  3.191  2.716  \n",
       "\n",
       "[1361 rows x 14 columns]"
      ]
     },
     "execution_count": 5,
     "metadata": {},
     "output_type": "execute_result"
    }
   ],
   "source": [
    "df=pd.read_csv(\"data2.csv\")\n",
    "df"
   ]
  },
  {
   "cell_type": "code",
   "execution_count": 6,
   "metadata": {},
   "outputs": [
    {
     "data": {
      "text/html": [
       "<div>\n",
       "<style scoped>\n",
       "    .dataframe tbody tr th:only-of-type {\n",
       "        vertical-align: middle;\n",
       "    }\n",
       "\n",
       "    .dataframe tbody tr th {\n",
       "        vertical-align: top;\n",
       "    }\n",
       "\n",
       "    .dataframe thead th {\n",
       "        text-align: right;\n",
       "    }\n",
       "</style>\n",
       "<table border=\"1\" class=\"dataframe\">\n",
       "  <thead>\n",
       "    <tr style=\"text-align: right;\">\n",
       "      <th></th>\n",
       "      <th>Date</th>\n",
       "      <th>A1</th>\n",
       "      <th>A2</th>\n",
       "      <th>A3</th>\n",
       "      <th>R1</th>\n",
       "      <th>R2</th>\n",
       "      <th>R3</th>\n",
       "      <th>M1</th>\n",
       "      <th>M2</th>\n",
       "      <th>M3</th>\n",
       "      <th>P1</th>\n",
       "      <th>P2</th>\n",
       "      <th>P3</th>\n",
       "      <th>D1</th>\n",
       "    </tr>\n",
       "  </thead>\n",
       "  <tbody>\n",
       "    <tr>\n",
       "      <td>0</td>\n",
       "      <td>01/02/1995</td>\n",
       "      <td>1.127</td>\n",
       "      <td>1.104</td>\n",
       "      <td>1.231</td>\n",
       "      <td>1.079</td>\n",
       "      <td>1.063</td>\n",
       "      <td>1.167</td>\n",
       "      <td>1.170</td>\n",
       "      <td>1.159</td>\n",
       "      <td>1.298</td>\n",
       "      <td>1.272</td>\n",
       "      <td>1.250</td>\n",
       "      <td>1.386</td>\n",
       "      <td>1.104</td>\n",
       "    </tr>\n",
       "    <tr>\n",
       "      <td>1</td>\n",
       "      <td>01/09/1995</td>\n",
       "      <td>1.134</td>\n",
       "      <td>1.111</td>\n",
       "      <td>1.232</td>\n",
       "      <td>1.086</td>\n",
       "      <td>1.070</td>\n",
       "      <td>1.169</td>\n",
       "      <td>1.177</td>\n",
       "      <td>1.164</td>\n",
       "      <td>1.300</td>\n",
       "      <td>1.279</td>\n",
       "      <td>1.256</td>\n",
       "      <td>1.387</td>\n",
       "      <td>1.102</td>\n",
       "    </tr>\n",
       "    <tr>\n",
       "      <td>2</td>\n",
       "      <td>01/16/1995</td>\n",
       "      <td>1.126</td>\n",
       "      <td>1.102</td>\n",
       "      <td>1.231</td>\n",
       "      <td>1.078</td>\n",
       "      <td>1.062</td>\n",
       "      <td>1.169</td>\n",
       "      <td>1.168</td>\n",
       "      <td>1.155</td>\n",
       "      <td>1.299</td>\n",
       "      <td>1.271</td>\n",
       "      <td>1.249</td>\n",
       "      <td>1.385</td>\n",
       "      <td>1.100</td>\n",
       "    </tr>\n",
       "    <tr>\n",
       "      <td>3</td>\n",
       "      <td>01/23/1995</td>\n",
       "      <td>1.132</td>\n",
       "      <td>1.110</td>\n",
       "      <td>1.226</td>\n",
       "      <td>1.083</td>\n",
       "      <td>1.068</td>\n",
       "      <td>1.165</td>\n",
       "      <td>1.177</td>\n",
       "      <td>1.165</td>\n",
       "      <td>1.296</td>\n",
       "      <td>1.277</td>\n",
       "      <td>1.256</td>\n",
       "      <td>1.378</td>\n",
       "      <td>1.095</td>\n",
       "    </tr>\n",
       "    <tr>\n",
       "      <td>4</td>\n",
       "      <td>01/30/1995</td>\n",
       "      <td>1.131</td>\n",
       "      <td>1.109</td>\n",
       "      <td>1.221</td>\n",
       "      <td>1.083</td>\n",
       "      <td>1.068</td>\n",
       "      <td>1.162</td>\n",
       "      <td>1.176</td>\n",
       "      <td>1.163</td>\n",
       "      <td>1.291</td>\n",
       "      <td>1.275</td>\n",
       "      <td>1.255</td>\n",
       "      <td>1.370</td>\n",
       "      <td>1.090</td>\n",
       "    </tr>\n",
       "  </tbody>\n",
       "</table>\n",
       "</div>"
      ],
      "text/plain": [
       "         Date     A1     A2     A3     R1     R2     R3     M1     M2     M3  \\\n",
       "0  01/02/1995  1.127  1.104  1.231  1.079  1.063  1.167  1.170  1.159  1.298   \n",
       "1  01/09/1995  1.134  1.111  1.232  1.086  1.070  1.169  1.177  1.164  1.300   \n",
       "2  01/16/1995  1.126  1.102  1.231  1.078  1.062  1.169  1.168  1.155  1.299   \n",
       "3  01/23/1995  1.132  1.110  1.226  1.083  1.068  1.165  1.177  1.165  1.296   \n",
       "4  01/30/1995  1.131  1.109  1.221  1.083  1.068  1.162  1.176  1.163  1.291   \n",
       "\n",
       "      P1     P2     P3     D1  \n",
       "0  1.272  1.250  1.386  1.104  \n",
       "1  1.279  1.256  1.387  1.102  \n",
       "2  1.271  1.249  1.385  1.100  \n",
       "3  1.277  1.256  1.378  1.095  \n",
       "4  1.275  1.255  1.370  1.090  "
      ]
     },
     "execution_count": 6,
     "metadata": {},
     "output_type": "execute_result"
    }
   ],
   "source": [
    "df.head()"
   ]
  },
  {
   "cell_type": "code",
   "execution_count": 7,
   "metadata": {},
   "outputs": [
    {
     "data": {
      "text/html": [
       "<div>\n",
       "<style scoped>\n",
       "    .dataframe tbody tr th:only-of-type {\n",
       "        vertical-align: middle;\n",
       "    }\n",
       "\n",
       "    .dataframe tbody tr th {\n",
       "        vertical-align: top;\n",
       "    }\n",
       "\n",
       "    .dataframe thead th {\n",
       "        text-align: right;\n",
       "    }\n",
       "</style>\n",
       "<table border=\"1\" class=\"dataframe\">\n",
       "  <thead>\n",
       "    <tr style=\"text-align: right;\">\n",
       "      <th></th>\n",
       "      <th>Date</th>\n",
       "      <th>A1</th>\n",
       "      <th>A2</th>\n",
       "      <th>A3</th>\n",
       "      <th>R1</th>\n",
       "      <th>R2</th>\n",
       "      <th>R3</th>\n",
       "      <th>M1</th>\n",
       "      <th>M2</th>\n",
       "      <th>M3</th>\n",
       "      <th>P1</th>\n",
       "      <th>P2</th>\n",
       "      <th>P3</th>\n",
       "      <th>D1</th>\n",
       "    </tr>\n",
       "  </thead>\n",
       "  <tbody>\n",
       "    <tr>\n",
       "      <td>1360</td>\n",
       "      <td>01/25/2021</td>\n",
       "      <td>2.478</td>\n",
       "      <td>2.363</td>\n",
       "      <td>2.703</td>\n",
       "      <td>2.392</td>\n",
       "      <td>2.298</td>\n",
       "      <td>2.593</td>\n",
       "      <td>2.776</td>\n",
       "      <td>2.615</td>\n",
       "      <td>3.014</td>\n",
       "      <td>3.033</td>\n",
       "      <td>2.9</td>\n",
       "      <td>3.191</td>\n",
       "      <td>2.716</td>\n",
       "    </tr>\n",
       "  </tbody>\n",
       "</table>\n",
       "</div>"
      ],
      "text/plain": [
       "            Date     A1     A2     A3     R1     R2     R3     M1     M2  \\\n",
       "1360  01/25/2021  2.478  2.363  2.703  2.392  2.298  2.593  2.776  2.615   \n",
       "\n",
       "         M3     P1   P2     P3     D1  \n",
       "1360  3.014  3.033  2.9  3.191  2.716  "
      ]
     },
     "execution_count": 7,
     "metadata": {},
     "output_type": "execute_result"
    }
   ],
   "source": [
    "df.tail(1)"
   ]
  },
  {
   "cell_type": "code",
   "execution_count": 8,
   "metadata": {},
   "outputs": [
    {
     "name": "stdout",
     "output_type": "stream",
     "text": [
      "<class 'pandas.core.frame.DataFrame'>\n",
      "RangeIndex: 1361 entries, 0 to 1360\n",
      "Data columns (total 14 columns):\n",
      "Date    1361 non-null object\n",
      "A1      1361 non-null float64\n",
      "A2      1361 non-null float64\n",
      "A3      1361 non-null float64\n",
      "R1      1361 non-null float64\n",
      "R2      1361 non-null float64\n",
      "R3      1361 non-null float64\n",
      "M1      1361 non-null float64\n",
      "M2      1361 non-null float64\n",
      "M3      1361 non-null float64\n",
      "P1      1361 non-null float64\n",
      "P2      1361 non-null float64\n",
      "P3      1361 non-null float64\n",
      "D1      1361 non-null float64\n",
      "dtypes: float64(13), object(1)\n",
      "memory usage: 149.0+ KB\n"
     ]
    }
   ],
   "source": [
    "df.info()"
   ]
  },
  {
   "cell_type": "code",
   "execution_count": 9,
   "metadata": {},
   "outputs": [
    {
     "data": {
      "text/html": [
       "<div>\n",
       "<style scoped>\n",
       "    .dataframe tbody tr th:only-of-type {\n",
       "        vertical-align: middle;\n",
       "    }\n",
       "\n",
       "    .dataframe tbody tr th {\n",
       "        vertical-align: top;\n",
       "    }\n",
       "\n",
       "    .dataframe thead th {\n",
       "        text-align: right;\n",
       "    }\n",
       "</style>\n",
       "<table border=\"1\" class=\"dataframe\">\n",
       "  <thead>\n",
       "    <tr style=\"text-align: right;\">\n",
       "      <th></th>\n",
       "      <th>A1</th>\n",
       "      <th>A2</th>\n",
       "      <th>A3</th>\n",
       "      <th>R1</th>\n",
       "      <th>R2</th>\n",
       "      <th>R3</th>\n",
       "      <th>M1</th>\n",
       "      <th>M2</th>\n",
       "      <th>M3</th>\n",
       "      <th>P1</th>\n",
       "      <th>P2</th>\n",
       "      <th>P3</th>\n",
       "      <th>D1</th>\n",
       "    </tr>\n",
       "  </thead>\n",
       "  <tbody>\n",
       "    <tr>\n",
       "      <td>count</td>\n",
       "      <td>1361.000000</td>\n",
       "      <td>1361.000000</td>\n",
       "      <td>1361.000000</td>\n",
       "      <td>1361.000000</td>\n",
       "      <td>1361.000000</td>\n",
       "      <td>1361.000000</td>\n",
       "      <td>1361.000000</td>\n",
       "      <td>1361.000000</td>\n",
       "      <td>1361.000000</td>\n",
       "      <td>1361.000000</td>\n",
       "      <td>1361.000000</td>\n",
       "      <td>1361.000000</td>\n",
       "      <td>1361.000000</td>\n",
       "    </tr>\n",
       "    <tr>\n",
       "      <td>mean</td>\n",
       "      <td>2.285680</td>\n",
       "      <td>2.234511</td>\n",
       "      <td>2.396873</td>\n",
       "      <td>2.225170</td>\n",
       "      <td>2.178511</td>\n",
       "      <td>2.329126</td>\n",
       "      <td>2.382822</td>\n",
       "      <td>2.320970</td>\n",
       "      <td>2.508877</td>\n",
       "      <td>2.519840</td>\n",
       "      <td>2.472096</td>\n",
       "      <td>2.609244</td>\n",
       "      <td>2.404699</td>\n",
       "    </tr>\n",
       "    <tr>\n",
       "      <td>std</td>\n",
       "      <td>0.859028</td>\n",
       "      <td>0.843815</td>\n",
       "      <td>0.883311</td>\n",
       "      <td>0.850143</td>\n",
       "      <td>0.835549</td>\n",
       "      <td>0.876739</td>\n",
       "      <td>0.882107</td>\n",
       "      <td>0.858521</td>\n",
       "      <td>0.908861</td>\n",
       "      <td>0.911055</td>\n",
       "      <td>0.894472</td>\n",
       "      <td>0.925587</td>\n",
       "      <td>0.998646</td>\n",
       "    </tr>\n",
       "    <tr>\n",
       "      <td>min</td>\n",
       "      <td>0.949000</td>\n",
       "      <td>0.926000</td>\n",
       "      <td>1.039000</td>\n",
       "      <td>0.907000</td>\n",
       "      <td>0.885000</td>\n",
       "      <td>0.974000</td>\n",
       "      <td>1.008000</td>\n",
       "      <td>0.979000</td>\n",
       "      <td>1.112000</td>\n",
       "      <td>1.100000</td>\n",
       "      <td>1.074000</td>\n",
       "      <td>1.191000</td>\n",
       "      <td>0.953000</td>\n",
       "    </tr>\n",
       "    <tr>\n",
       "      <td>25%</td>\n",
       "      <td>1.461000</td>\n",
       "      <td>1.433000</td>\n",
       "      <td>1.550000</td>\n",
       "      <td>1.421000</td>\n",
       "      <td>1.393000</td>\n",
       "      <td>1.489000</td>\n",
       "      <td>1.517000</td>\n",
       "      <td>1.482000</td>\n",
       "      <td>1.616000</td>\n",
       "      <td>1.607000</td>\n",
       "      <td>1.573000</td>\n",
       "      <td>1.695000</td>\n",
       "      <td>1.418000</td>\n",
       "    </tr>\n",
       "    <tr>\n",
       "      <td>50%</td>\n",
       "      <td>2.326000</td>\n",
       "      <td>2.251000</td>\n",
       "      <td>2.458000</td>\n",
       "      <td>2.237000</td>\n",
       "      <td>2.175000</td>\n",
       "      <td>2.367000</td>\n",
       "      <td>2.481000</td>\n",
       "      <td>2.404000</td>\n",
       "      <td>2.627000</td>\n",
       "      <td>2.693000</td>\n",
       "      <td>2.640000</td>\n",
       "      <td>2.769000</td>\n",
       "      <td>2.479000</td>\n",
       "    </tr>\n",
       "    <tr>\n",
       "      <td>75%</td>\n",
       "      <td>2.903000</td>\n",
       "      <td>2.825000</td>\n",
       "      <td>3.060000</td>\n",
       "      <td>2.828000</td>\n",
       "      <td>2.765000</td>\n",
       "      <td>2.976000</td>\n",
       "      <td>3.033000</td>\n",
       "      <td>2.930000</td>\n",
       "      <td>3.206000</td>\n",
       "      <td>3.209000</td>\n",
       "      <td>3.127000</td>\n",
       "      <td>3.318000</td>\n",
       "      <td>3.070000</td>\n",
       "    </tr>\n",
       "    <tr>\n",
       "      <td>max</td>\n",
       "      <td>4.165000</td>\n",
       "      <td>4.102000</td>\n",
       "      <td>4.301000</td>\n",
       "      <td>4.114000</td>\n",
       "      <td>4.054000</td>\n",
       "      <td>4.247000</td>\n",
       "      <td>4.229000</td>\n",
       "      <td>4.153000</td>\n",
       "      <td>4.387000</td>\n",
       "      <td>4.344000</td>\n",
       "      <td>4.283000</td>\n",
       "      <td>4.459000</td>\n",
       "      <td>4.764000</td>\n",
       "    </tr>\n",
       "  </tbody>\n",
       "</table>\n",
       "</div>"
      ],
      "text/plain": [
       "                A1           A2           A3           R1           R2  \\\n",
       "count  1361.000000  1361.000000  1361.000000  1361.000000  1361.000000   \n",
       "mean      2.285680     2.234511     2.396873     2.225170     2.178511   \n",
       "std       0.859028     0.843815     0.883311     0.850143     0.835549   \n",
       "min       0.949000     0.926000     1.039000     0.907000     0.885000   \n",
       "25%       1.461000     1.433000     1.550000     1.421000     1.393000   \n",
       "50%       2.326000     2.251000     2.458000     2.237000     2.175000   \n",
       "75%       2.903000     2.825000     3.060000     2.828000     2.765000   \n",
       "max       4.165000     4.102000     4.301000     4.114000     4.054000   \n",
       "\n",
       "                R3           M1           M2           M3           P1  \\\n",
       "count  1361.000000  1361.000000  1361.000000  1361.000000  1361.000000   \n",
       "mean      2.329126     2.382822     2.320970     2.508877     2.519840   \n",
       "std       0.876739     0.882107     0.858521     0.908861     0.911055   \n",
       "min       0.974000     1.008000     0.979000     1.112000     1.100000   \n",
       "25%       1.489000     1.517000     1.482000     1.616000     1.607000   \n",
       "50%       2.367000     2.481000     2.404000     2.627000     2.693000   \n",
       "75%       2.976000     3.033000     2.930000     3.206000     3.209000   \n",
       "max       4.247000     4.229000     4.153000     4.387000     4.344000   \n",
       "\n",
       "                P2           P3           D1  \n",
       "count  1361.000000  1361.000000  1361.000000  \n",
       "mean      2.472096     2.609244     2.404699  \n",
       "std       0.894472     0.925587     0.998646  \n",
       "min       1.074000     1.191000     0.953000  \n",
       "25%       1.573000     1.695000     1.418000  \n",
       "50%       2.640000     2.769000     2.479000  \n",
       "75%       3.127000     3.318000     3.070000  \n",
       "max       4.283000     4.459000     4.764000  "
      ]
     },
     "execution_count": 9,
     "metadata": {},
     "output_type": "execute_result"
    }
   ],
   "source": [
    "df.describe()"
   ]
  },
  {
   "cell_type": "code",
   "execution_count": 30,
   "metadata": {},
   "outputs": [
    {
     "data": {
      "text/plain": [
       "(1361, 14)"
      ]
     },
     "execution_count": 30,
     "metadata": {},
     "output_type": "execute_result"
    }
   ],
   "source": [
    "df.shape\n"
   ]
  },
  {
   "cell_type": "code",
   "execution_count": 55,
   "metadata": {},
   "outputs": [
    {
     "data": {
      "text/plain": [
       "Text(0.5, 1.0, 'All grade price of oil')"
      ]
     },
     "execution_count": 55,
     "metadata": {},
     "output_type": "execute_result"
    },
    {
     "data": {
      "image/png": "[encoded data removed]",
      "text/plain": [
       "<Figure size 432x288 with 1 Axes>"
      ]
     },
     "metadata": {
      "needs_background": "light"
     },
     "output_type": "display_data"
    }
   ],
   "source": [
    "plt.bar(df['M1'],df['D1'] ,label=['All grade p','Price of dei'])\n",
    "plt.grid()\n",
    "plt.legend()\n",
    "plt.title(\"All grade price of oil\")"
   ]
  },
  {
   "cell_type": "code",
   "execution_count": 49,
   "metadata": {},
   "outputs": [
    {
     "data": {
      "text/plain": [
       "<matplotlib.legend.Legend at 0x7f7a00963f50>"
      ]
     },
     "execution_count": 49,
     "metadata": {},
     "output_type": "execute_result"
    },
    {
     "data": {
      "image/png": "[encoded data removed]",
      "text/plain": [
       "<Figure size 432x288 with 1 Axes>"
      ]
     },
     "metadata": {
      "needs_background": "light"
     },
     "output_type": "display_data"
    }
   ],
   "source": [
    "plt.plot(df[['D1','A1','A2','A3']],label=[\"Disel\",'Allgrade c','ALlgrade f','Allgradec'])\n",
    "plt.title(\"Agraph of Diesel price from 1999 to 2020 with the monthy sales\")\n",
    "plt.grid()\n",
    "plt.legend()"
   ]
  },
  {
   "cell_type": "code",
   "execution_count": 51,
   "metadata": {},
   "outputs": [
    {
     "data": {
      "text/plain": [
       "<matplotlib.legend.Legend at 0x7f7a0105b090>"
      ]
     },
     "execution_count": 51,
     "metadata": {},
     "output_type": "execute_result"
    },
    {
     "data": {
      "image/png": "[encoded data removed]",
      "text/plain": [
       "<Figure size 432x288 with 1 Axes>"
      ]
     },
     "metadata": {
      "needs_background": "light"
     },
     "output_type": "display_data"
    }
   ],
   "source": [
    "plt.plot(df[['D1','R1','R2','R3']],label=[\"Disel\",'Allgrade c','ALlgrade f','Allgradec'])\n",
    "plt.title(\"Agraph of Diesel price from 1999 to 2020 with the monthy sales\")\n",
    "plt.grid()\n",
    "plt.legend()"
   ]
  },
  {
   "cell_type": "code",
   "execution_count": 56,
   "metadata": {},
   "outputs": [
    {
     "data": {
      "text/plain": [
       "Text(0.5, 1.0, 'All grade price of oil')"
      ]
     },
     "execution_count": 56,
     "metadata": {},
     "output_type": "execute_result"
    },
    {
     "data": {
      "image/png": "[encoded data removed]",
      "text/plain": [
       "<Figure size 432x288 with 1 Axes>"
      ]
     },
     "metadata": {
      "needs_background": "light"
     },
     "output_type": "display_data"
    }
   ],
   "source": [
    "plt.barh(df['M1'],df['D1'] ,label=['All grade p','Price of dei'])\n",
    "plt.grid()\n",
    "plt.legend()\n",
    "plt.title(\"All grade price of oil\")"
   ]
  },
  {
   "cell_type": "code",
   "execution_count": 67,
   "metadata": {},
   "outputs": [
    {
     "data": {
      "image/png": "[encoded data removed]",
      "text/plain": [
       "<Figure size 432x288 with 1 Axes>"
      ]
     },
     "metadata": {
      "needs_background": "light"
     },
     "output_type": "display_data"
    }
   ],
   "source": [
    "plt.boxplot(df[['A1','A2']])\n",
    "plt.show()"
   ]
  },
  {
   "cell_type": "code",
   "execution_count": 29,
   "metadata": {},
   "outputs": [
    {
     "data": {
      "text/plain": [
       "2"
      ]
     },
     "execution_count": 29,
     "metadata": {},
     "output_type": "execute_result"
    }
   ],
   "source": [
    "#to ensure the number remain an integer we import the math model\n",
    "import math\n",
    "median_value= math.floor(df.A1.median())\n",
    "\n",
    "median_value\n",
    "\n"
   ]
  },
  {
   "cell_type": "code",
   "execution_count": 16,
   "metadata": {},
   "outputs": [
    {
     "data": {
      "text/html": [
       "<div>\n",
       "<style scoped>\n",
       "    .dataframe tbody tr th:only-of-type {\n",
       "        vertical-align: middle;\n",
       "    }\n",
       "\n",
       "    .dataframe tbody tr th {\n",
       "        vertical-align: top;\n",
       "    }\n",
       "\n",
       "    .dataframe thead th {\n",
       "        text-align: right;\n",
       "    }\n",
       "</style>\n",
       "<table border=\"1\" class=\"dataframe\">\n",
       "  <thead>\n",
       "    <tr style=\"text-align: right;\">\n",
       "      <th></th>\n",
       "      <th>Date</th>\n",
       "      <th>A1</th>\n",
       "      <th>A2</th>\n",
       "      <th>A3</th>\n",
       "      <th>R1</th>\n",
       "      <th>R2</th>\n",
       "      <th>R3</th>\n",
       "      <th>M1</th>\n",
       "      <th>M2</th>\n",
       "      <th>M3</th>\n",
       "      <th>P1</th>\n",
       "      <th>P2</th>\n",
       "      <th>P3</th>\n",
       "      <th>D1</th>\n",
       "    </tr>\n",
       "  </thead>\n",
       "  <tbody>\n",
       "    <tr>\n",
       "      <td>0</td>\n",
       "      <td>01/02/1995</td>\n",
       "      <td>1.127</td>\n",
       "      <td>1.104</td>\n",
       "      <td>1.231</td>\n",
       "      <td>1.079</td>\n",
       "      <td>1.063</td>\n",
       "      <td>1.167</td>\n",
       "      <td>1.170</td>\n",
       "      <td>1.159</td>\n",
       "      <td>1.298</td>\n",
       "      <td>1.272</td>\n",
       "      <td>1.250</td>\n",
       "      <td>1.386</td>\n",
       "      <td>1.104</td>\n",
       "    </tr>\n",
       "    <tr>\n",
       "      <td>1</td>\n",
       "      <td>01/09/1995</td>\n",
       "      <td>1.134</td>\n",
       "      <td>1.111</td>\n",
       "      <td>1.232</td>\n",
       "      <td>1.086</td>\n",
       "      <td>1.070</td>\n",
       "      <td>1.169</td>\n",
       "      <td>1.177</td>\n",
       "      <td>1.164</td>\n",
       "      <td>1.300</td>\n",
       "      <td>1.279</td>\n",
       "      <td>1.256</td>\n",
       "      <td>1.387</td>\n",
       "      <td>1.102</td>\n",
       "    </tr>\n",
       "    <tr>\n",
       "      <td>2</td>\n",
       "      <td>01/16/1995</td>\n",
       "      <td>1.126</td>\n",
       "      <td>1.102</td>\n",
       "      <td>1.231</td>\n",
       "      <td>1.078</td>\n",
       "      <td>1.062</td>\n",
       "      <td>1.169</td>\n",
       "      <td>1.168</td>\n",
       "      <td>1.155</td>\n",
       "      <td>1.299</td>\n",
       "      <td>1.271</td>\n",
       "      <td>1.249</td>\n",
       "      <td>1.385</td>\n",
       "      <td>1.100</td>\n",
       "    </tr>\n",
       "    <tr>\n",
       "      <td>3</td>\n",
       "      <td>01/23/1995</td>\n",
       "      <td>1.132</td>\n",
       "      <td>1.110</td>\n",
       "      <td>1.226</td>\n",
       "      <td>1.083</td>\n",
       "      <td>1.068</td>\n",
       "      <td>1.165</td>\n",
       "      <td>1.177</td>\n",
       "      <td>1.165</td>\n",
       "      <td>1.296</td>\n",
       "      <td>1.277</td>\n",
       "      <td>1.256</td>\n",
       "      <td>1.378</td>\n",
       "      <td>1.095</td>\n",
       "    </tr>\n",
       "    <tr>\n",
       "      <td>4</td>\n",
       "      <td>01/30/1995</td>\n",
       "      <td>1.131</td>\n",
       "      <td>1.109</td>\n",
       "      <td>1.221</td>\n",
       "      <td>1.083</td>\n",
       "      <td>1.068</td>\n",
       "      <td>1.162</td>\n",
       "      <td>1.176</td>\n",
       "      <td>1.163</td>\n",
       "      <td>1.291</td>\n",
       "      <td>1.275</td>\n",
       "      <td>1.255</td>\n",
       "      <td>1.370</td>\n",
       "      <td>1.090</td>\n",
       "    </tr>\n",
       "    <tr>\n",
       "      <td>...</td>\n",
       "      <td>...</td>\n",
       "      <td>...</td>\n",
       "      <td>...</td>\n",
       "      <td>...</td>\n",
       "      <td>...</td>\n",
       "      <td>...</td>\n",
       "      <td>...</td>\n",
       "      <td>...</td>\n",
       "      <td>...</td>\n",
       "      <td>...</td>\n",
       "      <td>...</td>\n",
       "      <td>...</td>\n",
       "      <td>...</td>\n",
       "      <td>...</td>\n",
       "    </tr>\n",
       "    <tr>\n",
       "      <td>1356</td>\n",
       "      <td>12/28/2020</td>\n",
       "      <td>2.330</td>\n",
       "      <td>2.225</td>\n",
       "      <td>2.535</td>\n",
       "      <td>2.243</td>\n",
       "      <td>2.158</td>\n",
       "      <td>2.423</td>\n",
       "      <td>2.634</td>\n",
       "      <td>2.482</td>\n",
       "      <td>2.858</td>\n",
       "      <td>2.889</td>\n",
       "      <td>2.770</td>\n",
       "      <td>3.031</td>\n",
       "      <td>2.635</td>\n",
       "    </tr>\n",
       "    <tr>\n",
       "      <td>1357</td>\n",
       "      <td>01/04/2021</td>\n",
       "      <td>2.336</td>\n",
       "      <td>2.227</td>\n",
       "      <td>2.549</td>\n",
       "      <td>2.249</td>\n",
       "      <td>2.160</td>\n",
       "      <td>2.437</td>\n",
       "      <td>2.639</td>\n",
       "      <td>2.484</td>\n",
       "      <td>2.867</td>\n",
       "      <td>2.895</td>\n",
       "      <td>2.771</td>\n",
       "      <td>3.042</td>\n",
       "      <td>2.640</td>\n",
       "    </tr>\n",
       "    <tr>\n",
       "      <td>1358</td>\n",
       "      <td>01/11/2021</td>\n",
       "      <td>2.403</td>\n",
       "      <td>2.298</td>\n",
       "      <td>2.610</td>\n",
       "      <td>2.317</td>\n",
       "      <td>2.232</td>\n",
       "      <td>2.498</td>\n",
       "      <td>2.702</td>\n",
       "      <td>2.550</td>\n",
       "      <td>2.927</td>\n",
       "      <td>2.959</td>\n",
       "      <td>2.839</td>\n",
       "      <td>3.101</td>\n",
       "      <td>2.670</td>\n",
       "    </tr>\n",
       "    <tr>\n",
       "      <td>1359</td>\n",
       "      <td>01/18/2021</td>\n",
       "      <td>2.464</td>\n",
       "      <td>2.351</td>\n",
       "      <td>2.688</td>\n",
       "      <td>2.379</td>\n",
       "      <td>2.285</td>\n",
       "      <td>2.579</td>\n",
       "      <td>2.759</td>\n",
       "      <td>2.601</td>\n",
       "      <td>2.995</td>\n",
       "      <td>3.014</td>\n",
       "      <td>2.885</td>\n",
       "      <td>3.166</td>\n",
       "      <td>2.696</td>\n",
       "    </tr>\n",
       "    <tr>\n",
       "      <td>1360</td>\n",
       "      <td>01/25/2021</td>\n",
       "      <td>2.478</td>\n",
       "      <td>2.363</td>\n",
       "      <td>2.703</td>\n",
       "      <td>2.392</td>\n",
       "      <td>2.298</td>\n",
       "      <td>2.593</td>\n",
       "      <td>2.776</td>\n",
       "      <td>2.615</td>\n",
       "      <td>3.014</td>\n",
       "      <td>3.033</td>\n",
       "      <td>2.900</td>\n",
       "      <td>3.191</td>\n",
       "      <td>2.716</td>\n",
       "    </tr>\n",
       "  </tbody>\n",
       "</table>\n",
       "<p>1361 rows × 14 columns</p>\n",
       "</div>"
      ],
      "text/plain": [
       "            Date     A1     A2     A3     R1     R2     R3     M1     M2  \\\n",
       "0     01/02/1995  1.127  1.104  1.231  1.079  1.063  1.167  1.170  1.159   \n",
       "1     01/09/1995  1.134  1.111  1.232  1.086  1.070  1.169  1.177  1.164   \n",
       "2     01/16/1995  1.126  1.102  1.231  1.078  1.062  1.169  1.168  1.155   \n",
       "3     01/23/1995  1.132  1.110  1.226  1.083  1.068  1.165  1.177  1.165   \n",
       "4     01/30/1995  1.131  1.109  1.221  1.083  1.068  1.162  1.176  1.163   \n",
       "...          ...    ...    ...    ...    ...    ...    ...    ...    ...   \n",
       "1356  12/28/2020  2.330  2.225  2.535  2.243  2.158  2.423  2.634  2.482   \n",
       "1357  01/04/2021  2.336  2.227  2.549  2.249  2.160  2.437  2.639  2.484   \n",
       "1358  01/11/2021  2.403  2.298  2.610  2.317  2.232  2.498  2.702  2.550   \n",
       "1359  01/18/2021  2.464  2.351  2.688  2.379  2.285  2.579  2.759  2.601   \n",
       "1360  01/25/2021  2.478  2.363  2.703  2.392  2.298  2.593  2.776  2.615   \n",
       "\n",
       "         M3     P1     P2     P3     D1  \n",
       "0     1.298  1.272  1.250  1.386  1.104  \n",
       "1     1.300  1.279  1.256  1.387  1.102  \n",
       "2     1.299  1.271  1.249  1.385  1.100  \n",
       "3     1.296  1.277  1.256  1.378  1.095  \n",
       "4     1.291  1.275  1.255  1.370  1.090  \n",
       "...     ...    ...    ...    ...    ...  \n",
       "1356  2.858  2.889  2.770  3.031  2.635  \n",
       "1357  2.867  2.895  2.771  3.042  2.640  \n",
       "1358  2.927  2.959  2.839  3.101  2.670  \n",
       "1359  2.995  3.014  2.885  3.166  2.696  \n",
       "1360  3.014  3.033  2.900  3.191  2.716  \n",
       "\n",
       "[1361 rows x 14 columns]"
      ]
     },
     "execution_count": 16,
     "metadata": {},
     "output_type": "execute_result"
    }
   ],
   "source": [
    "df.A1=  df.A1.fillna(median_value)\n",
    "df\n",
    "#It was to ensure the new data was embeded on the original data"
   ]
  },
  {
   "cell_type": "code",
   "execution_count": 5,
   "metadata": {},
   "outputs": [
    {
     "ename": "NameError",
     "evalue": "name 'linear_model' is not defined",
     "output_type": "error",
     "traceback": [
      "\u001b[0;31m---------------------------------------------------------------------------\u001b[0m",
      "\u001b[0;31mNameError\u001b[0m                                 Traceback (most recent call last)",
      "\u001b[0;32m<ipython-input-5-93963bcb9281>\u001b[0m in \u001b[0;36m<module>\u001b[0;34m\u001b[0m\n\u001b[1;32m      1\u001b[0m \u001b[0;31m#creating a linear Regresssion model\u001b[0m\u001b[0;34m\u001b[0m\u001b[0;34m\u001b[0m\u001b[0;34m\u001b[0m\u001b[0m\n\u001b[0;32m----> 2\u001b[0;31m \u001b[0mreg1\u001b[0m\u001b[0;34m=\u001b[0m\u001b[0mlinear_model\u001b[0m\u001b[0;34m.\u001b[0m\u001b[0mLinearRegression\u001b[0m\u001b[0;34m(\u001b[0m\u001b[0;34m)\u001b[0m\u001b[0;34m\u001b[0m\u001b[0;34m\u001b[0m\u001b[0m\n\u001b[0m\u001b[1;32m      3\u001b[0m \u001b[0mreg1\u001b[0m\u001b[0;34m.\u001b[0m\u001b[0mfit\u001b[0m\u001b[0;34m(\u001b[0m\u001b[0mdf\u001b[0m\u001b[0;34m[\u001b[0m\u001b[0;34m[\u001b[0m\u001b[0;34m'M1'\u001b[0m\u001b[0;34m,\u001b[0m\u001b[0;34m'A2'\u001b[0m\u001b[0;34m,\u001b[0m\u001b[0;34m'A3'\u001b[0m\u001b[0;34m]\u001b[0m\u001b[0;34m]\u001b[0m\u001b[0;34m,\u001b[0m\u001b[0mdf\u001b[0m\u001b[0;34m.\u001b[0m\u001b[0mD1\u001b[0m\u001b[0;34m)\u001b[0m\u001b[0;34m\u001b[0m\u001b[0;34m\u001b[0m\u001b[0m\n",
      "\u001b[0;31mNameError\u001b[0m: name 'linear_model' is not defined"
     ]
    }
   ],
   "source": [
    "#creating a linear Regresssion model\n",
    "reg1=linear_model.LinearRegression()\n",
    "reg1.fit(df[['M1','A2','A3']],df.D1)"
   ]
  },
  {
   "cell_type": "code",
   "execution_count": 24,
   "metadata": {},
   "outputs": [
    {
     "data": {
      "text/plain": [
       "array([ 1.46080136,  0.38530239, -0.70976303])"
      ]
     },
     "execution_count": 24,
     "metadata": {},
     "output_type": "execute_result"
    }
   ],
   "source": [
    " reg.coef_"
   ]
  },
  {
   "cell_type": "code",
   "execution_count": 25,
   "metadata": {},
   "outputs": [
    {
     "data": {
      "text/plain": [
       "-0.23588094806679205"
      ]
     },
     "execution_count": 25,
     "metadata": {},
     "output_type": "execute_result"
    }
   ],
   "source": [
    "reg.intercept_"
   ]
  },
  {
   "cell_type": "code",
   "execution_count": 28,
   "metadata": {},
   "outputs": [
    {
     "data": {
      "text/plain": [
       "array([1.08234293])"
      ]
     },
     "execution_count": 28,
     "metadata": {},
     "output_type": "execute_result"
    }
   ],
   "source": [
    "reg.predict([[1.171,1.124,1.163]])"
   ]
  },
  {
   "cell_type": "code",
   "execution_count": 1,
   "metadata": {},
   "outputs": [
    {
     "name": "stderr",
     "output_type": "stream",
     "text": [
      "/home/karimi/anaconda3/lib/python3.7/site-packages/sklearn/externals/joblib/__init__.py:15: DeprecationWarning: sklearn.externals.joblib is deprecated in 0.21 and will be removed in 0.23. Please import this functionality directly from joblib, which can be installed with: pip install joblib. If this warning is raised when loading pickled models, you may need to re-serialize those models with scikit-learn 0.21+.\n",
      "  warnings.warn(msg, category=DeprecationWarning)\n"
     ]
    }
   ],
   "source": [
    "#loading the trained model\n",
    "from sklearn.externals import joblib"
   ]
  },
  {
   "cell_type": "code",
   "execution_count": 4,
   "metadata": {},
   "outputs": [
    {
     "ename": "NameError",
     "evalue": "name 'reg' is not defined",
     "output_type": "error",
     "traceback": [
      "\u001b[0;31m---------------------------------------------------------------------------\u001b[0m",
      "\u001b[0;31mNameError\u001b[0m                                 Traceback (most recent call last)",
      "\u001b[0;32m<ipython-input-4-abdb016e86eb>\u001b[0m in \u001b[0;36m<module>\u001b[0;34m\u001b[0m\n\u001b[1;32m      1\u001b[0m \u001b[0;31m# joblib.dump(reg,'reg_joblib')\u001b[0m\u001b[0;34m\u001b[0m\u001b[0;34m\u001b[0m\u001b[0;34m\u001b[0m\u001b[0m\n\u001b[0;32m----> 2\u001b[0;31m \u001b[0mjoblib\u001b[0m\u001b[0;34m.\u001b[0m\u001b[0mdump\u001b[0m\u001b[0;34m(\u001b[0m\u001b[0mreg\u001b[0m\u001b[0;34m,\u001b[0m\u001b[0;34m'reg_joblib'\u001b[0m\u001b[0;34m)\u001b[0m\u001b[0;34m\u001b[0m\u001b[0;34m\u001b[0m\u001b[0m\n\u001b[0m",
      "\u001b[0;31mNameError\u001b[0m: name 'reg' is not defined"
     ]
    }
   ],
   "source": [
    "# joblib.dump(reg,'reg_joblib')\n",
    "joblib.dump(reg,'reg_joblib')"
   ]
  },
  {
   "cell_type": "code",
   "execution_count": null,
   "metadata": {},
   "outputs": [],
   "source": []
  }
 ],
 "metadata": {
  "kernelspec": {
   "display_name": "Python 3",
   "language": "python",
   "name": "python3"
  },
  "language_info": {
   "codemirror_mode": {
    "name": "ipython",
    "version": 3
   },
   "file_extension": ".py",
   "mimetype": "text/x-python",
   "name": "python",
   "nbconvert_exporter": "python",
   "pygments_lexer": "ipython3",
   "version": "3.7.4"
  }
 },
 "nbformat": 4,
 "nbformat_minor": 2
}
